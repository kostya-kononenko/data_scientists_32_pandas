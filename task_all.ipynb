{
 "cells": [
  {
   "cell_type": "code",
   "execution_count": 22,
   "metadata": {
    "collapsed": true
   },
   "outputs": [
    {
     "data": {
      "text/plain": "   first_name  second_name  avg_rating  mark_for_the_current_exam  \\\n0   Pierluigi         Luna          60                          6   \n1   Pierluigi        Brown          89                          8   \n2       Laura      Johnson          91                          6   \n3     Matthew       Powell         100                          7   \n4    Kimberly      Metella          98                          4   \n5    Michelle      Mortati          39                          7   \n6    Domenico   Mclaughlin          43                         11   \n7       Alice        Argan          83                         11   \n8       Enzio        Brown          16                         10   \n9       Bruce     Majorana          16                          9   \n10     Sylvia        Smith          56                          5   \n11    Loretta       Brewer          43                          5   \n12       Brad  Lamborghini          24                          8   \n13       Lara      Udinese          33                         12   \n14     Uberto    Tolentino          74                          3   \n\n    number_of_attempts  \n0                    2  \n1                    4  \n2                    5  \n3                    4  \n4                    4  \n5                    4  \n6                    2  \n7                    5  \n8                    1  \n9                    1  \n10                   3  \n11                   4  \n12                   5  \n13                   1  \n14                   4  ",
      "text/html": "<div>\n<style scoped>\n    .dataframe tbody tr th:only-of-type {\n        vertical-align: middle;\n    }\n\n    .dataframe tbody tr th {\n        vertical-align: top;\n    }\n\n    .dataframe thead th {\n        text-align: right;\n    }\n</style>\n<table border=\"1\" class=\"dataframe\">\n  <thead>\n    <tr style=\"text-align: right;\">\n      <th></th>\n      <th>first_name</th>\n      <th>second_name</th>\n      <th>avg_rating</th>\n      <th>mark_for_the_current_exam</th>\n      <th>number_of_attempts</th>\n    </tr>\n  </thead>\n  <tbody>\n    <tr>\n      <th>0</th>\n      <td>Pierluigi</td>\n      <td>Luna</td>\n      <td>60</td>\n      <td>6</td>\n      <td>2</td>\n    </tr>\n    <tr>\n      <th>1</th>\n      <td>Pierluigi</td>\n      <td>Brown</td>\n      <td>89</td>\n      <td>8</td>\n      <td>4</td>\n    </tr>\n    <tr>\n      <th>2</th>\n      <td>Laura</td>\n      <td>Johnson</td>\n      <td>91</td>\n      <td>6</td>\n      <td>5</td>\n    </tr>\n    <tr>\n      <th>3</th>\n      <td>Matthew</td>\n      <td>Powell</td>\n      <td>100</td>\n      <td>7</td>\n      <td>4</td>\n    </tr>\n    <tr>\n      <th>4</th>\n      <td>Kimberly</td>\n      <td>Metella</td>\n      <td>98</td>\n      <td>4</td>\n      <td>4</td>\n    </tr>\n    <tr>\n      <th>5</th>\n      <td>Michelle</td>\n      <td>Mortati</td>\n      <td>39</td>\n      <td>7</td>\n      <td>4</td>\n    </tr>\n    <tr>\n      <th>6</th>\n      <td>Domenico</td>\n      <td>Mclaughlin</td>\n      <td>43</td>\n      <td>11</td>\n      <td>2</td>\n    </tr>\n    <tr>\n      <th>7</th>\n      <td>Alice</td>\n      <td>Argan</td>\n      <td>83</td>\n      <td>11</td>\n      <td>5</td>\n    </tr>\n    <tr>\n      <th>8</th>\n      <td>Enzio</td>\n      <td>Brown</td>\n      <td>16</td>\n      <td>10</td>\n      <td>1</td>\n    </tr>\n    <tr>\n      <th>9</th>\n      <td>Bruce</td>\n      <td>Majorana</td>\n      <td>16</td>\n      <td>9</td>\n      <td>1</td>\n    </tr>\n    <tr>\n      <th>10</th>\n      <td>Sylvia</td>\n      <td>Smith</td>\n      <td>56</td>\n      <td>5</td>\n      <td>3</td>\n    </tr>\n    <tr>\n      <th>11</th>\n      <td>Loretta</td>\n      <td>Brewer</td>\n      <td>43</td>\n      <td>5</td>\n      <td>4</td>\n    </tr>\n    <tr>\n      <th>12</th>\n      <td>Brad</td>\n      <td>Lamborghini</td>\n      <td>24</td>\n      <td>8</td>\n      <td>5</td>\n    </tr>\n    <tr>\n      <th>13</th>\n      <td>Lara</td>\n      <td>Udinese</td>\n      <td>33</td>\n      <td>12</td>\n      <td>1</td>\n    </tr>\n    <tr>\n      <th>14</th>\n      <td>Uberto</td>\n      <td>Tolentino</td>\n      <td>74</td>\n      <td>3</td>\n      <td>4</td>\n    </tr>\n  </tbody>\n</table>\n</div>"
     },
     "execution_count": 22,
     "metadata": {},
     "output_type": "execute_result"
    }
   ],
   "source": [
    "import random\n",
    "from faker import Faker\n",
    "import pandas as pd\n",
    "fake = Faker(['it_IT', 'en_US'])\n",
    "\n",
    "# task_01\n",
    "first_name = [fake.first_name() for _ in range(15)]\n",
    "last_name = [fake.last_name() for _ in range(15)]\n",
    "list_of_avg_rating = [random.randint(10, 100) for _ in range(15)]\n",
    "mark_for_the_current_exam = [random.randint(1, 12) for _ in range(15)]\n",
    "number_of_attempts = [random.randint(1, 5) for _ in range(15)]\n",
    "\n",
    "students_data = pd.DataFrame({\"first_name\": first_name,\n",
    "                   \"second_name\": last_name,\n",
    "                   \"avg_rating\": list_of_avg_rating,\n",
    "                   \"mark_for_the_current_exam\": mark_for_the_current_exam,\n",
    "                   \"number_of_attempts\": number_of_attempts})\n",
    "students_data"
   ]
  },
  {
   "cell_type": "code",
   "execution_count": 23,
   "outputs": [
    {
     "data": {
      "text/plain": "   first_name  second_name  avg_rating  mark_for_the_current_exam  \\\n0   Pierluigi         Luna          60                          6   \n1   Pierluigi        Brown          89                          8   \n2       Laura      Johnson          91                          6   \n3     Matthew       Powell         100                          7   \n4    Kimberly      Metella          98                          4   \n5    Michelle      Mortati          39                          7   \n6    Domenico   Mclaughlin          43                         11   \n7       Alice        Argan          83                         11   \n8       Enzio        Brown          16                         10   \n9       Bruce     Majorana          16                          9   \n10     Sylvia        Smith          56                          5   \n11    Loretta       Brewer          43                          5   \n12       Brad  Lamborghini          24                          8   \n13       Lara      Udinese          33                         12   \n14     Uberto    Tolentino          74                          3   \n\n    number_of_attempts admission_to_the_next_exam  \n0                    2                        Yes  \n1                    4                        Yes  \n2                    5                         No  \n3                    4                         No  \n4                    4                        Yes  \n5                    4                        Yes  \n6                    2                         No  \n7                    5                        Yes  \n8                    1                        Yes  \n9                    1                         No  \n10                   3                         No  \n11                   4                         No  \n12                   5                        Yes  \n13                   1                         No  \n14                   4                         No  ",
      "text/html": "<div>\n<style scoped>\n    .dataframe tbody tr th:only-of-type {\n        vertical-align: middle;\n    }\n\n    .dataframe tbody tr th {\n        vertical-align: top;\n    }\n\n    .dataframe thead th {\n        text-align: right;\n    }\n</style>\n<table border=\"1\" class=\"dataframe\">\n  <thead>\n    <tr style=\"text-align: right;\">\n      <th></th>\n      <th>first_name</th>\n      <th>second_name</th>\n      <th>avg_rating</th>\n      <th>mark_for_the_current_exam</th>\n      <th>number_of_attempts</th>\n      <th>admission_to_the_next_exam</th>\n    </tr>\n  </thead>\n  <tbody>\n    <tr>\n      <th>0</th>\n      <td>Pierluigi</td>\n      <td>Luna</td>\n      <td>60</td>\n      <td>6</td>\n      <td>2</td>\n      <td>Yes</td>\n    </tr>\n    <tr>\n      <th>1</th>\n      <td>Pierluigi</td>\n      <td>Brown</td>\n      <td>89</td>\n      <td>8</td>\n      <td>4</td>\n      <td>Yes</td>\n    </tr>\n    <tr>\n      <th>2</th>\n      <td>Laura</td>\n      <td>Johnson</td>\n      <td>91</td>\n      <td>6</td>\n      <td>5</td>\n      <td>No</td>\n    </tr>\n    <tr>\n      <th>3</th>\n      <td>Matthew</td>\n      <td>Powell</td>\n      <td>100</td>\n      <td>7</td>\n      <td>4</td>\n      <td>No</td>\n    </tr>\n    <tr>\n      <th>4</th>\n      <td>Kimberly</td>\n      <td>Metella</td>\n      <td>98</td>\n      <td>4</td>\n      <td>4</td>\n      <td>Yes</td>\n    </tr>\n    <tr>\n      <th>5</th>\n      <td>Michelle</td>\n      <td>Mortati</td>\n      <td>39</td>\n      <td>7</td>\n      <td>4</td>\n      <td>Yes</td>\n    </tr>\n    <tr>\n      <th>6</th>\n      <td>Domenico</td>\n      <td>Mclaughlin</td>\n      <td>43</td>\n      <td>11</td>\n      <td>2</td>\n      <td>No</td>\n    </tr>\n    <tr>\n      <th>7</th>\n      <td>Alice</td>\n      <td>Argan</td>\n      <td>83</td>\n      <td>11</td>\n      <td>5</td>\n      <td>Yes</td>\n    </tr>\n    <tr>\n      <th>8</th>\n      <td>Enzio</td>\n      <td>Brown</td>\n      <td>16</td>\n      <td>10</td>\n      <td>1</td>\n      <td>Yes</td>\n    </tr>\n    <tr>\n      <th>9</th>\n      <td>Bruce</td>\n      <td>Majorana</td>\n      <td>16</td>\n      <td>9</td>\n      <td>1</td>\n      <td>No</td>\n    </tr>\n    <tr>\n      <th>10</th>\n      <td>Sylvia</td>\n      <td>Smith</td>\n      <td>56</td>\n      <td>5</td>\n      <td>3</td>\n      <td>No</td>\n    </tr>\n    <tr>\n      <th>11</th>\n      <td>Loretta</td>\n      <td>Brewer</td>\n      <td>43</td>\n      <td>5</td>\n      <td>4</td>\n      <td>No</td>\n    </tr>\n    <tr>\n      <th>12</th>\n      <td>Brad</td>\n      <td>Lamborghini</td>\n      <td>24</td>\n      <td>8</td>\n      <td>5</td>\n      <td>Yes</td>\n    </tr>\n    <tr>\n      <th>13</th>\n      <td>Lara</td>\n      <td>Udinese</td>\n      <td>33</td>\n      <td>12</td>\n      <td>1</td>\n      <td>No</td>\n    </tr>\n    <tr>\n      <th>14</th>\n      <td>Uberto</td>\n      <td>Tolentino</td>\n      <td>74</td>\n      <td>3</td>\n      <td>4</td>\n      <td>No</td>\n    </tr>\n  </tbody>\n</table>\n</div>"
     },
     "execution_count": 23,
     "metadata": {},
     "output_type": "execute_result"
    }
   ],
   "source": [
    "# task_02\n",
    "admission_to_the_next_exam = [random.choice([\"Yes\", \"No\"]) for _ in range(15)]\n",
    "students_data[\"admission_to_the_next_exam\"] = admission_to_the_next_exam\n",
    "students_data"
   ],
   "metadata": {
    "collapsed": false
   }
  },
  {
   "cell_type": "code",
   "execution_count": 17,
   "outputs": [
    {
     "data": {
      "text/plain": "min        26.000000\nmax       100.000000\nmean       54.733333\nmedian     58.000000\nName: avg_rating, dtype: float64"
     },
     "execution_count": 17,
     "metadata": {},
     "output_type": "execute_result"
    }
   ],
   "source": [
    "# task_03\n",
    "students_data['avg_rating'].agg(['min', 'max', 'mean', 'median'])"
   ],
   "metadata": {
    "collapsed": false
   }
  },
  {
   "cell_type": "code",
   "execution_count": 18,
   "outputs": [
    {
     "data": {
      "text/plain": "3"
     },
     "execution_count": 18,
     "metadata": {},
     "output_type": "execute_result"
    }
   ],
   "source": [
    "# task_04\n",
    "count = students_data.loc[students_data['number_of_attempts'] == 1, 'number_of_attempts'].count()\n",
    "count"
   ],
   "metadata": {
    "collapsed": false
   }
  },
  {
   "cell_type": "code",
   "execution_count": 19,
   "outputs": [
    {
     "data": {
      "text/plain": "pandas.core.series.Series"
     },
     "execution_count": 19,
     "metadata": {},
     "output_type": "execute_result"
    }
   ],
   "source": [
    "# task_05\n",
    "first_name = pd.Series(students_data['first_name'])\n",
    "type(first_name)"
   ],
   "metadata": {
    "collapsed": false
   }
  }
 ],
 "metadata": {
  "kernelspec": {
   "display_name": "Python 3",
   "language": "python",
   "name": "python3"
  },
  "language_info": {
   "codemirror_mode": {
    "name": "ipython",
    "version": 2
   },
   "file_extension": ".py",
   "mimetype": "text/x-python",
   "name": "python",
   "nbconvert_exporter": "python",
   "pygments_lexer": "ipython2",
   "version": "2.7.6"
  }
 },
 "nbformat": 4,
 "nbformat_minor": 0
}
